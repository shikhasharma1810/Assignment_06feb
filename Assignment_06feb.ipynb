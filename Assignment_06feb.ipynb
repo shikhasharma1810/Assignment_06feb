{
 "cells": [
  {
   "cell_type": "code",
   "execution_count": 1,
   "id": "237e94dc-d743-438e-8303-bc264b3a2ddb",
   "metadata": {},
   "outputs": [],
   "source": [
    "'''Create a function which will take a list as an argument and return the product of all the numbers after creating a flat\n",
    "list.\n",
    "Use the below-given list as an argument for your function.\n",
    "list1 = [1,2,3,4, [44,55,66, True], False, (34,56,78,89,34), {1,2,3,3,2,1}, {1:34, \"key2\": [55, 67, 78, 89], 4: (45,\n",
    "22, 61, 34)}, [56, 'data science'], 'Machine Learning']\n",
    "Note: you must extract numeric keys and values of the dictionary also.'''\n",
    "\n",
    "l = [1,2,3,4,[44,55,66,True],False,(34,56,78,89,34),{1,2,3,3,2,1},{1:34,\"key2\":[55, 67, 78, 89],4:(45,22, 61, 34)},\n",
    "     [56,'data science'],'Machine Learning']"
   ]
  },
  {
   "cell_type": "code",
   "execution_count": 2,
   "id": "1a9dcc2a-d24f-47d1-85d2-a9d0b5eee049",
   "metadata": {},
   "outputs": [],
   "source": [
    "def list1(l):\n",
    "    l1=[]\n",
    "    result=1\n",
    "    for i in l:\n",
    "        if type(i) == int:\n",
    "            l1.append(i)\n",
    "        elif type(i) == list:\n",
    "            for j in i:\n",
    "                if type(j)==int:\n",
    "                    l1.append(j)\n",
    "        elif type(i) == tuple:\n",
    "            for j in i:\n",
    "                if type(j)==int:\n",
    "                    l1.append(j)         \n",
    "        elif type(i) == set:\n",
    "            for j in i:\n",
    "                if type(j)==int:\n",
    "                    l1.append(j)\n",
    "        elif type(i) == dict:\n",
    "            for key in i.keys():\n",
    "                if type(key)==int:\n",
    "                    l1.append(key)\n",
    "            for value in i.values():\n",
    "                if type(value)==int:\n",
    "                    l1.append(value)\n",
    "                elif type(value)==tuple:\n",
    "                    for j in value:\n",
    "                        if type(j)==int:\n",
    "                            l1.append(j) \n",
    "                elif type(value)==list:\n",
    "                    for j in value:\n",
    "                        if type(j)==int:\n",
    "                            l1.append(j)             \n",
    "    return l1"
   ]
  },
  {
   "cell_type": "code",
   "execution_count": 3,
   "id": "77f129c6-b614-45f7-a6ce-7774fd5daf11",
   "metadata": {},
   "outputs": [
    {
     "data": {
      "text/plain": [
       "[1,\n",
       " 2,\n",
       " 3,\n",
       " 4,\n",
       " 44,\n",
       " 55,\n",
       " 66,\n",
       " 34,\n",
       " 56,\n",
       " 78,\n",
       " 89,\n",
       " 34,\n",
       " 1,\n",
       " 2,\n",
       " 3,\n",
       " 1,\n",
       " 4,\n",
       " 34,\n",
       " 55,\n",
       " 67,\n",
       " 78,\n",
       " 89,\n",
       " 45,\n",
       " 22,\n",
       " 61,\n",
       " 34,\n",
       " 56]"
      ]
     },
     "execution_count": 3,
     "metadata": {},
     "output_type": "execute_result"
    }
   ],
   "source": [
    "list1(l)"
   ]
  },
  {
   "cell_type": "code",
   "execution_count": 5,
   "id": "1355beef-f7ab-4853-8cec-1e72b75fbcfc",
   "metadata": {},
   "outputs": [],
   "source": [
    "l1= [1,2,3,4,44,55,66,34,56,78,89,34,1,2,3,1,4,34,55,67,78,89,45,22,61,34,56]\n",
    "def multiply(l1):\n",
    "    result=1\n",
    "    for i in l1:\n",
    "        result=result*i\n",
    "    return result"
   ]
  },
  {
   "cell_type": "code",
   "execution_count": 6,
   "id": "b4e5eada-f350-4cdd-830a-8099ec1fe399",
   "metadata": {},
   "outputs": [
    {
     "data": {
      "text/plain": [
       "4134711838987085478833841242112000"
      ]
     },
     "execution_count": 6,
     "metadata": {},
     "output_type": "execute_result"
    }
   ],
   "source": [
    "multiply(l1)"
   ]
  },
  {
   "cell_type": "code",
   "execution_count": 44,
   "id": "a573bee4-810f-4b84-99d2-02cd6ec3d1be",
   "metadata": {},
   "outputs": [
    {
     "name": "stdout",
     "output_type": "stream",
     "text": [
      "r$dzmg$gl$yvxlnv$z$wzgz$hxrvmgrhg"
     ]
    }
   ],
   "source": [
    "'''Write a python program for encrypting a message sent to you by your friend. The logic of encryption should be such that,\n",
    "for a the output should be z. For b, the output should be y. For c, the output should be x respectively. Also, the whitespace\n",
    "should be replaced with a dollar sign. Keep the punctuation marks unchanged.\n",
    "\n",
    "Input Sentence: I want to become a Data Scientist.\n",
    "\n",
    "Encrypt the above input sentence using the program you just created.\n",
    "\n",
    "Note: Convert the given input sentence into lowercase before encrypting. The final output should be lowercase.'''\n",
    "\n",
    "word='I want to become a Data Scientist'\n",
    "ch=' '\n",
    "for i in range(len(word)):\n",
    "       \n",
    "        if word[i] >= 'A' and word[i] <= 'Z':\n",
    "                ch = chr(ord('Z') -\n",
    "                     ord(word[i]) + ord('A'))\n",
    "                print(ch.lower(), end = \"\")\n",
    " \n",
    "        elif word[i] >= 'a' and word[i] <= 'z':\n",
    "            ch = chr(ord('z') -\n",
    "                     ord(word[i]) + ord('a'))\n",
    "            print(ch, end = \"\") \n",
    "        \n",
    "        elif word[i]==' ':\n",
    "            ch= word[i].replace(' ','$')\n",
    "            print(ch,end='')\n",
    "            \n",
    "        else:\n",
    "            print(word[i], end = \"\")"
   ]
  }
 ],
 "metadata": {
  "kernelspec": {
   "display_name": "Python 3 (ipykernel)",
   "language": "python",
   "name": "python3"
  },
  "language_info": {
   "codemirror_mode": {
    "name": "ipython",
    "version": 3
   },
   "file_extension": ".py",
   "mimetype": "text/x-python",
   "name": "python",
   "nbconvert_exporter": "python",
   "pygments_lexer": "ipython3",
   "version": "3.10.8"
  }
 },
 "nbformat": 4,
 "nbformat_minor": 5
}
